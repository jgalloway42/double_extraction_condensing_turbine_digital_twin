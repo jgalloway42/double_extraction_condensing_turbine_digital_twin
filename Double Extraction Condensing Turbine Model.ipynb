{
 "cells": [
  {
   "cell_type": "code",
   "execution_count": 1,
   "metadata": {},
   "outputs": [],
   "source": [
    "import numpy as np\n",
    "from scipy.optimize import minimize\n",
    "import time\n"
   ]
  },
  {
   "cell_type": "markdown",
   "metadata": {},
   "source": [
    "# Turbine Diagram\n",
    "<img src='Dbl_Extraction_Cond_Tg.png'>\n",
    "\n",
    "$\\dot{M}_{1^{st}},\\dot{M}_{2^{nd}},\\dot{M}_{3^{rd}},\\dot{M}_{HP},\\dot{M}_{LP}$ = Steam Mass Flows $[kpph]$\n",
    "\n",
    "$P_i,P_{HP},P_{LP},P_C$ = Steam Pressures $[psig]$\n",
    "\n",
    "$T_i,T_{HP},T_{LP},T_C$ = Steam Temperatures $[^o F]$\n",
    "\n",
    "$H_i,H_{HP},H_{LP},H_{C}$ = Steam Specific Enthalpies $[btu/lb]$\n",
    "\n",
    "$\\dot{H}_{1^{st}},\\dot{H}_{2^{nd}},\\dot{H}_{3^{rd}}$ = Generator Section Electricity Productions $[MW]$\n",
    "\n",
    "$V_1, V_2, V_3$ = Valve Position $[ \\% - Open]$"
   ]
  },
  {
   "cell_type": "markdown",
   "metadata": {},
   "source": [
    "## Turbine Model Calculations, Constants and Optimization Functions"
   ]
  },
  {
   "cell_type": "code",
   "execution_count": 2,
   "metadata": {},
   "outputs": [],
   "source": [
    "'''Min Max Section Flows'''\n",
    "Smax = np.array([850,475,150],dtype=float)\n",
    "Smin = np.array([50,50,50], dtype = float)\n",
    "\n",
    "'''Constants'''\n",
    "MW_UPPER = 70.\n",
    "MW_LOWER = 5.\n",
    "K= 0.000293071 #mBtu/hr -> MW\n",
    "# Enthalpies for Mi, Mhp, Mlp, Mcond\n",
    "H = np.array([1440,1235,1165,940], dtype = float)\n",
    "h_sect = H[0:-1] - H[1:] # section btu/lb\n",
    "\n",
    "'''Model Functions'''\n",
    "# Calculate Extraction Flows\n",
    "def ext_flows(sf):\n",
    "    return np.array([sf[0]-sf[1],sf[1]-sf[2]])\n",
    "\n",
    "'''Megawatt Generation'''\n",
    "def mw_gen(sf):\n",
    "    return np.dot(sf,h_sect)*K\n",
    "\n",
    "'''Vectorize PV's (MW, HP extration, LP extraction)'''\n",
    "def get_pv(sf):\n",
    "    ef = ext_flows(sf)\n",
    "    pv = np.array([mw_gen(sf),ef[0],ef[1]])\n",
    "    return pv\n",
    "\n",
    "'''Calculate Valve Positions'''\n",
    "def get_valves(sf):\n",
    "    vlv = np.array([sf[0]/Smax[0],\n",
    "                   sf[1]/sf[0],\n",
    "                    sf[2]/sf[1]])\n",
    "    return vlv*100\n",
    "\n",
    "'''Objective Function'''\n",
    "def error(sf,w,sp):\n",
    "    # Setpoint Error as Euclidean Distance\n",
    "    d = (get_pv(sf) - sp)\n",
    "    e = np.dot(d*d,w)\n",
    "    return np.sqrt(e)\n",
    "\n",
    "'''Constraints'''\n",
    "# Equality Constraints\n",
    "##### None Needed\n",
    "\n",
    "# Inequality Constraints (greater than 0)\n",
    "def ineq1(sf):\n",
    "    # Upper MW Constraint\n",
    "    return MW_UPPER - mw_gen(sf)\n",
    "def ineq2(sf):\n",
    "    # Lower MW Constraint\n",
    "    return mw_gen(sf) - MW_LOWER\n",
    "    \n",
    "bnds = ((Smin[0],Smax[0]),\n",
    "        (Smin[1],Smax[1]),\n",
    "        (Smin[2],Smax[2]))\n",
    "\n",
    "# SLSQP Constraints\n",
    "cons = []\n",
    "cons.append({'type': 'ineq','fun':ineq1,\n",
    "             'jac': lambda x: np.array([-K*h_sect[0],\n",
    "                                        -K*h_sect[1],\n",
    "                                        -K*h_sect[2]])})\n",
    "cons.append({'type': 'ineq','fun':ineq2,\n",
    "             'jac': lambda x: np.array([K*h_sect[0],\n",
    "                                        K*h_sect[1],\n",
    "                                        K*h_sect[2]])})\n"
   ]
  },
  {
   "cell_type": "markdown",
   "metadata": {},
   "source": [
    "## Tuning and Setpoints"
   ]
  },
  {
   "cell_type": "code",
   "execution_count": 3,
   "metadata": {},
   "outputs": [
    {
     "name": "stdout",
     "output_type": "stream",
     "text": [
      "Weights (MW, HP, LP):  [1.e+04 1.e-01 1.e+01]\n",
      "Setpoints:  [ 60 400 400]\n",
      "Valve Positions:  [82.35294118 42.85714286 33.33333333]\n",
      "PVs : [ 54.804277 400.       200.      ]\n",
      "Error Function:  818.5080176316479\n",
      "====== Constraints =====\n",
      "Upper MW INEQ:  15.195723000000001\n",
      "Lower MW INEQ:  49.804277\n"
     ]
    }
   ],
   "source": [
    "'''Setpoints'''\n",
    "MW_sp = 60\n",
    "HP_sp = 400\n",
    "LP_sp = 400\n",
    "SP = np.array([MW_sp,HP_sp,LP_sp])\n",
    "\n",
    "'''Weights for Priority Simulation'''\n",
    "# Speed Weight, HP Weight, LP Weight\n",
    "#W = np.array([1,100,1], dtype=float)  # HP, LP, MW Priority\n",
    "#W = np.array([1,1,100], dtype=float)  # LP, HP, MW Priority\n",
    "#W = np.array([10000,10,0.1], dtype=float)  # MW, HP, LP Priority\n",
    "W = np.array([10000,0.1,10], dtype=float)  # MW, LP, HP Priority\n",
    "\n",
    "\n",
    "'''Test Functions'''\n",
    "# Section Flows for Testing\n",
    "section_flows = np.array([700, 300, 100])\n",
    "\n",
    "print('Weights (MW, HP, LP): ',W)\n",
    "print('Setpoints: ',SP)\n",
    "print('Valve Positions: ',get_valves(section_flows))\n",
    "print('PVs :',get_pv(section_flows))\n",
    "print('Error Function: ',error(section_flows,W,SP))\n",
    "print('====== Constraints =====')\n",
    "print('Upper MW INEQ: ',ineq1(section_flows))\n",
    "print('Lower MW INEQ: ', ineq2(section_flows))"
   ]
  },
  {
   "cell_type": "markdown",
   "metadata": {},
   "source": [
    "## Run Optimizer"
   ]
  },
  {
   "cell_type": "code",
   "execution_count": 4,
   "metadata": {},
   "outputs": [
    {
     "name": "stdout",
     "output_type": "stream",
     "text": [
      "Optimization terminated successfully.    (Exit mode 0)\n",
      "            Current function value: 18.736095948089574\n",
      "            Iterations: 20\n",
      "            Function evaluations: 103\n",
      "            Gradient evaluations: 20\n",
      "================================================================================\n",
      "Weights:  [1.e+04 1.e-01 1.e+01]\n",
      "Max Section Flows:  [850. 475. 150.]\n",
      "Min Section Flows:  [50. 50. 50.]\n",
      "Solution (Section Flows):  [790.57067228 449.21290933  50.        ]\n",
      "Error Function Evaluation at Solution:  18.736095948089574\n",
      "================================================================================\n",
      "Valves % Open:  [93.00831439 56.82134755 11.1305795 ]\n",
      "Setpoints (MW, HP, LP):  [ 60 400 400]\n",
      "PVs (MW, HP, LP): [ 60.0097723  341.35776295 399.21290933]\n",
      "================================================================================\n",
      "Execution Time: 0.007945537567138672 sec\n"
     ]
    }
   ],
   "source": [
    "# initial guess\n",
    "sf0 = np.array([600, 300, 100])\n",
    "\n",
    "# arguments for error function\n",
    "arg = (W,SP)\n",
    "\n",
    "# run opt\n",
    "start_time = time.time()\n",
    "sol = minimize(error, sf0, args=arg, method='SLSQP',\n",
    "              bounds = bnds, constraints = cons,\n",
    "              options={'disp': True})\n",
    "end_time = time.time()\n",
    "print('='*80)\n",
    "print('Weights: ',W)\n",
    "print('Max Section Flows: ',Smax)\n",
    "print('Min Section Flows: ',Smin)\n",
    "print('Solution (Section Flows): ',sol.x)\n",
    "print('Error Function Evaluation at Solution: ',error(sol.x,*arg))\n",
    "print('='*80)\n",
    "print('Valves % Open: ',get_valves(sol.x))\n",
    "print('Setpoints (MW, HP, LP): ',SP)\n",
    "print('PVs (MW, HP, LP):',get_pv(sol.x))\n",
    "print('='*80)\n",
    "print(\"Execution Time: %s sec\" % (time.time() - start_time))"
   ]
  },
  {
   "cell_type": "code",
   "execution_count": null,
   "metadata": {},
   "outputs": [],
   "source": []
  }
 ],
 "metadata": {
  "kernelspec": {
   "display_name": "Python 3 (ipykernel)",
   "language": "python",
   "name": "python3"
  },
  "language_info": {
   "codemirror_mode": {
    "name": "ipython",
    "version": 3
   },
   "file_extension": ".py",
   "mimetype": "text/x-python",
   "name": "python",
   "nbconvert_exporter": "python",
   "pygments_lexer": "ipython3",
   "version": "3.9.7"
  }
 },
 "nbformat": 4,
 "nbformat_minor": 2
}
